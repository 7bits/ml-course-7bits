{
 "cells": [
  {
   "cell_type": "markdown",
   "metadata": {},
   "source": [
    "# Трюки\n",
    "\n",
    "Чтобы успешно выполнить финальное задание, вам наверное будет полезно узнать про разные хитрые трюки.\n",
    "\n",
    "## Про ансамбли\n",
    "https://github.com/mephistopheies/mlworkshop39_042017/blob/master/5_ml_ensemble/Advanced%20techniques.ipynb\n",
    "\n",
    "![](images/blending.png)\n",
    "![](images/stacking.png)\n",
    "\n",
    "## Про тексты и распределения\n",
    "\n",
    "https://github.com/mephistopheies/mlworkshop39_042017/blob/master/3_masterclass/ipy/feature_extraction.ipynb\n",
    "\n",
    "## Про kernel trick\n",
    "\n",
    "![](https://pp.userapi.com/c840335/v840335893/1df76/ZB6W73xFJ6w.jpg)\n",
    "\n",
    "## Генерация признаков\n",
    "\n",
    "Среднее значение целевого признака по группам. Попарные произведения признаков. https://www.youtube.com/watch?v=faX6mYFJHxg"
   ]
  },
  {
   "cell_type": "code",
   "execution_count": null,
   "metadata": {},
   "outputs": [],
   "source": []
  }
 ],
 "metadata": {
  "kernelspec": {
   "display_name": "Python 3",
   "language": "python",
   "name": "python3"
  },
  "language_info": {
   "codemirror_mode": {
    "name": "ipython",
    "version": 3
   },
   "file_extension": ".py",
   "mimetype": "text/x-python",
   "name": "python",
   "nbconvert_exporter": "python",
   "pygments_lexer": "ipython3",
   "version": "3.6.3"
  }
 },
 "nbformat": 4,
 "nbformat_minor": 2
}
