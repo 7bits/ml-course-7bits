{
 "cells": [
  {
   "cell_type": "code",
   "execution_count": 1,
   "metadata": {},
   "outputs": [
    {
     "data": {
      "text/html": [
       "\n",
       "<style>\n",
       "\n",
       "div.cell { /* Tunes the space between cells */\n",
       "margin-top:1em;\n",
       "margin-bottom:1em;\n",
       "}\n",
       "\n",
       "div.text_cell_render h1 { /* Main titles bigger, centered */\n",
       "font-size: 1.8em;\n",
       "line-height:1.0em;\n",
       "text-align:center;\n",
       "}\n",
       "\n",
       "div.text_cell_render h2 { /*  Parts names nearer from text */\n",
       "margin-bottom: -0.4em;\n",
       "}\n",
       "\n",
       "\n",
       "div.text_cell_render { /* Customize text cells */\n",
       "font-family: 'Times New Roman';\n",
       "font-size:1.4em;\n",
       "line-height:1.3em;\n",
       "padding-left:2em;\n",
       "padding-right:2em;\n",
       "}\n",
       "</style>\n"
      ],
      "text/plain": [
       "<IPython.core.display.HTML object>"
      ]
     },
     "execution_count": 1,
     "metadata": {},
     "output_type": "execute_result"
    }
   ],
   "source": [
    "# Это просто чтобы на проекторе всё было красиво.\n",
    "# Не обращайте внимания\n",
    "\n",
    "from IPython.core.display import HTML\n",
    "HTML(\"\"\"\n",
    "<style>\n",
    "\n",
    "div.cell { /* Tunes the space between cells */\n",
    "margin-top:1em;\n",
    "margin-bottom:1em;\n",
    "}\n",
    "\n",
    "div.text_cell_render h1 { /* Main titles bigger, centered */\n",
    "font-size: 1.8em;\n",
    "line-height:1.0em;\n",
    "text-align:center;\n",
    "}\n",
    "\n",
    "div.text_cell_render h2 { /*  Parts names nearer from text */\n",
    "margin-bottom: -0.4em;\n",
    "}\n",
    "\n",
    "\n",
    "div.text_cell_render { /* Customize text cells */\n",
    "font-family: 'Times New Roman';\n",
    "font-size:1.4em;\n",
    "line-height:1.3em;\n",
    "padding-left:2em;\n",
    "padding-right:2em;\n",
    "}\n",
    "</style>\n",
    "\"\"\")"
   ]
  },
  {
   "cell_type": "markdown",
   "metadata": {},
   "source": [
    "# Классификация\n",
    "\n",
    "## K ближайших соседей kNN\n",
    "\n",
    "![](https://upload.wikimedia.org/wikipedia/commons/thumb/e/e7/KnnClassification.svg/220px-KnnClassification.svg.png)\n",
    "\n",
    "kNN - это метрический алгоритм, предполагающий, что объекты одного класса в пространстве находятся близко друг к другу. В зависимости от выбора k - количества ближайших соседей и метрики расстояния, качество может сильно отличаться. Страдает от проклятия размерностей. Ленивый, значит проивзодит все вычисления при предсказании, а не при обучении. Хранит всю тренировочную выборку в себе.\n",
    "\n",
    "Идея алгоритма:\n",
    "1. Взять новый объект и вычислить все расстояния по некоторой метрике от него до других объектов\n",
    "2. Выбрать k ближайших соседей к этому объекту\n",
    "3. Класс объекта - это класс наиболее часто встречающегося объекта среди k соседей.\n",
    "\n",
    "В алгоритм можно внести изменение добавив веса для каждого объекта или класса. Например, при выборе класса смотрят не на большинство соседей, а на какую-то взвешенную сумму.\n",
    "\n",
    "Кстати алгоритм можо свести к регрессии, если брать среднее значение целевой переменной по k соседям.\n",
    "\n",
    "Можно решать задачи классификации, регрессии, рекомендации.\n",
    "\n",
    "### Литература\n",
    "\n",
    "- [Ближайшие соседи - sklearn](http://scikit-learn.org/stable/modules/neighbors.html)\n",
    "- [ODS классификация](https://habrahabr.ru/company/ods/blog/322534/#metod-blizhayshih-sosedey)\n",
    "- [Naive Bayes and Text Classification](https://sebastianraschka.com/Articles/2014_naive_bayes_1.html)"
   ]
  },
  {
   "cell_type": "markdown",
   "metadata": {},
   "source": [
    "### sklearn.neighbors.KNeighborsClassifier\n",
    "\n",
    "[Документация](http://scikit-learn.org/stable/modules/generated/sklearn.neighbors.KNeighborsClassifier.html#sklearn.neighbors.KNeighborsClassifier)\n",
    "\n",
    "Основные параметры класса sklearn.neighbors.KNeighborsClassifier:\n",
    "\n",
    "- weights: \"uniform\" (все веса равны), \"distance\" (вес обратно пропорционален расстоянию до тестового примера) или другая определенная пользователем функция\n",
    "- algorithm (опционально): \"brute\", \"ball_tree\", \"KD_tree\", или \"auto\". В первом случае ближайшие соседи для каждого тестового примера считаются перебором обучающей выборки. Во втором и третьем — расстояние между примерами хранятся в дереве, что ускоряет нахождение ближайших соседей. В случае указания параметра \"auto\" подходящий способ нахождения соседей будет выбран автоматически на основе обучающей выборки.\n",
    "- leaf_size (опционально): порог переключения на полный перебор в случае выбора BallTree или KDTree для нахождения соседей\n",
    "- metric: \"minkowski\", \"manhattan\", \"euclidean\", \"chebyshev\" и другие\n",
    "\n",
    "_взято из курса [ODS](https://habrahabr.ru/company/ods/blog/322534/#metod-blizhayshih-sosedey)_"
   ]
  },
  {
   "cell_type": "markdown",
   "metadata": {},
   "source": [
    "### Метрики расстояния\n",
    "\n",
    "Аксиомы метрики:\n",
    "\n",
    "1. $\\rho(x,y) \\ge 0$\n",
    "2. $\\rho(x,y) = \\rho(y,x)$\n",
    "3. $\\rho(x,y) \\ge \\rho(x,z) + \\rho(z,y)$\n",
    "\n",
    "#### Евклидова метрика\n",
    "\n",
    "$\\large \\rho(x,y) = \\sqrt{\\sum_{i=1}^{n}{(x_i - y_i)^2}}$\n",
    "\n",
    "#### Манхэттенская метрика\n",
    "\n",
    "$\\large \\rho(x,y) = \\sum_{i=1}^{n}{|x_i - y_i|}$\n",
    "\n",
    "####  Минковского метрика\n",
    "\n",
    "$\\large \\rho(x,y) = {(\\sum_{i=1}^{n}{|x_i - y_i| ^ q})} ^ \\frac{1}{q}$\n",
    "\n",
    "![](https://i.imgur.com/0aBH1bO.png)"
   ]
  },
  {
   "cell_type": "markdown",
   "metadata": {},
   "source": [
    "### Проклятье размерности\n",
    "\n",
    "![](https://i.imgur.com/VZkE79X.png)\n",
    "\n",
    "$\\LARGE \\lim_{n \\rightarrow \\infty}{0.99^n} = 0$"
   ]
  },
  {
   "cell_type": "markdown",
   "metadata": {},
   "source": [
    "## Практика\n",
    "\n",
    "### Классификация\n",
    "\n",
    "Рассмотрим наш любимый датасет с цифрами MNIST. Мы его уже решали весьма успешно с помощью одного метрического алгоритма кластеризации, поэтому возможно тут тоже будет всё хорошо."
   ]
  },
  {
   "cell_type": "code",
   "execution_count": 2,
   "metadata": {},
   "outputs": [],
   "source": [
    "import pandas as pd\n",
    "import numpy as np\n",
    "from matplotlib import pyplot as plt\n",
    "import seaborn as sns\n",
    "\n",
    "%matplotlib inline\n",
    "\n",
    "# Зафиксируем случайность, чтобы каждый раз получалось одно и тоже\n",
    "np.random.seed(seed=42)"
   ]
  },
  {
   "cell_type": "code",
   "execution_count": 3,
   "metadata": {},
   "outputs": [
    {
     "name": "stdout",
     "output_type": "stream",
     "text": [
      "Экземпляров: 1797\n",
      "Размер изображения: 8.0x8.0\n"
     ]
    }
   ],
   "source": [
    "from sklearn import datasets\n",
    "\n",
    "X, y = datasets.load_digits(return_X_y=True)\n",
    "\n",
    "print(\"Экземпляров: {}\\nРазмер изображения: {}x{}\".format(X.shape[0], np.sqrt(X.shape[1]), np.sqrt(X.shape[1])))"
   ]
  },
  {
   "cell_type": "code",
   "execution_count": 4,
   "metadata": {},
   "outputs": [
    {
     "data": {
      "image/png": "[encoded data removed]",
      "text/plain": [
       "<matplotlib.figure.Figure at 0x1121284e0>"
      ]
     },
     "metadata": {},
     "output_type": "display_data"
    }
   ],
   "source": [
    "plt.figure(figsize=(16, 6))\n",
    "for i in range(10):\n",
    "    plt.subplot(2, 5, i + 1)\n",
    "    plt.imshow(X[i,:].reshape([8,8]), cmap='gray')"
   ]
  },
  {
   "cell_type": "code",
   "execution_count": 5,
   "metadata": {},
   "outputs": [],
   "source": [
    "from sklearn.neighbors import KNeighborsClassifier\n",
    "\n",
    "from sklearn.model_selection import cross_val_score\n",
    "\n",
    "from sklearn.model_selection import KFold\n",
    "from sklearn.model_selection import StratifiedKFold"
   ]
  },
  {
   "cell_type": "markdown",
   "metadata": {},
   "source": [
    "Как мы с вами помним, классификацию по очень несбалансированным выборкам делать сложно и нужно брать специальные метрики и хитрые разбиения на трейн-тест. Посмотрим, как у нас дела обстоят с цирфами."
   ]
  },
  {
   "cell_type": "code",
   "execution_count": 6,
   "metadata": {},
   "outputs": [
    {
     "data": {
      "text/plain": [
       "<matplotlib.axes._subplots.AxesSubplot at 0x112d1b4a8>"
      ]
     },
     "execution_count": 6,
     "metadata": {},
     "output_type": "execute_result"
    },
    {
     "data": {
      "image/png": "[encoded data removed]",
      "text/plain": [
       "<matplotlib.figure.Figure at 0x1128eb128>"
      ]
     },
     "metadata": {},
     "output_type": "display_data"
    }
   ],
   "source": [
    "sns.countplot(y)"
   ]
  },
  {
   "cell_type": "markdown",
   "metadata": {},
   "source": [
    "Целевой признак распределен равномерно по всем классам с некоторой погрешность. Поэтому можно считать в лоб обычную точность предсказания и не бояться, что интерпретация будет неадекватна. НО при кроссвалидации происходят случайные подвыборки объектов, нам нужно очобым образом стратифицировать разбиение, чтобы сохранялись пропорции классов. Для этих целей используют StratifiedKFold."
   ]
  },
  {
   "cell_type": "code",
   "execution_count": 7,
   "metadata": {},
   "outputs": [
    {
     "name": "stdout",
     "output_type": "stream",
     "text": [
      "Accuracy: 0.9838396055603897\n"
     ]
    }
   ],
   "source": [
    "clf = KNeighborsClassifier()\n",
    "\n",
    "cv = StratifiedKFold(n_splits=5, shuffle=True, random_state=42)\n",
    "\n",
    "scores = cross_val_score(clf, X, y, cv=cv)\n",
    "\n",
    "print(\"Accuracy: {}\".format(scores.mean()))"
   ]
  },
  {
   "cell_type": "markdown",
   "metadata": {},
   "source": [
    "Отлично, хорошая точность, но где у нас сосредоточены ошибки? В чём проблема предсказания? Хотелось бы получить красивый отчет, вдруг мы просто неправильно предсказываем часть 1 и 7??\n",
    "\n",
    "Воспользуемся функцией [classification-report](http://scikit-learn.org/stable/modules/model_evaluation.html#classification-report), которая выведет precision, recall, f1-score, support и confusion_matrix, по которой мы поймем что с чем путает алгоритм.\n",
    "\n",
    "![](https://i.imgur.com/8xhLDz8.png)\n",
    "\n",
    "$\\LARGE precision = \\frac{TP}{TP+FP}$\n",
    "\n",
    "$\\LARGE recall = \\frac{TP}{TP+FN}$"
   ]
  },
  {
   "cell_type": "code",
   "execution_count": 8,
   "metadata": {},
   "outputs": [
    {
     "name": "stdout",
     "output_type": "stream",
     "text": [
      "             precision    recall  f1-score   support\n",
      "\n",
      "          0       0.99      1.00      1.00       100\n",
      "          1       0.95      1.00      0.98       104\n",
      "          2       1.00      0.99      0.99        96\n",
      "          3       0.97      0.94      0.95       113\n",
      "          4       0.98      0.99      0.99       112\n",
      "          5       0.98      0.97      0.97       118\n",
      "          6       1.00      0.99      1.00       119\n",
      "          7       0.92      1.00      0.96       108\n",
      "          8       0.95      0.93      0.94        98\n",
      "          9       0.95      0.90      0.93       111\n",
      "\n",
      "avg / total       0.97      0.97      0.97      1079\n",
      "\n"
     ]
    },
    {
     "data": {
      "text/plain": [
       "<matplotlib.axes._subplots.AxesSubplot at 0x112d6cd30>"
      ]
     },
     "execution_count": 8,
     "metadata": {},
     "output_type": "execute_result"
    },
    {
     "data": {
      "image/png": "[encoded data removed]",
      "text/plain": [
       "<matplotlib.figure.Figure at 0x112d21b70>"
      ]
     },
     "metadata": {},
     "output_type": "display_data"
    }
   ],
   "source": [
    "from sklearn.metrics import classification_report\n",
    "from sklearn.metrics import confusion_matrix\n",
    "from sklearn.model_selection import train_test_split\n",
    "\n",
    "X_train, X_test, y_train, y_test = train_test_split(X, y, random_state=42, test_size=0.6)\n",
    "\n",
    "clf = KNeighborsClassifier()\n",
    "clf.fit(X_train, y_train)\n",
    "y_pred = clf.predict(X_test).astype('int')\n",
    "\n",
    "print(classification_report(y_test, y_pred))\n",
    "\n",
    "plt.figure(figsize=(12,12))\n",
    "sns.heatmap(confusion_matrix(y_test, y_pred), cmap=plt.cm.Blues, square=True, annot=True, fmt='.3g')"
   ]
  },
  {
   "cell_type": "markdown",
   "metadata": {},
   "source": [
    "### Тюнинг гиперпараметров\n",
    "\n",
    "Как улучшить качество предсказания?\n",
    "\n",
    "Самый просто способ для того чтобы подобрать лучший параметр - это перебрать их ВСЕ с помощью [GridSearch](http://scikit-learn.org/stable/modules/grid_search.html)\n",
    "\n",
    "![](https://pp.userapi.com/c639616/v639616016/4938d/-9s9ffsvAC0.jpg)"
   ]
  },
  {
   "cell_type": "code",
   "execution_count": 9,
   "metadata": {},
   "outputs": [],
   "source": [
    "from sklearn.model_selection import GridSearchCV"
   ]
  },
  {
   "cell_type": "code",
   "execution_count": 10,
   "metadata": {},
   "outputs": [
    {
     "data": {
      "text/plain": [
       "array([1, 2, 3, 4, 5, 6, 7, 8, 9])"
      ]
     },
     "execution_count": 10,
     "metadata": {},
     "output_type": "execute_result"
    }
   ],
   "source": [
    "np.arange(1, 10)"
   ]
  },
  {
   "cell_type": "code",
   "execution_count": 11,
   "metadata": {},
   "outputs": [
    {
     "name": "stdout",
     "output_type": "stream",
     "text": [
      "Fitting 5 folds for each of 18 candidates, totalling 90 fits\n",
      "[CV] n_neighbors=1, p=2 ..............................................\n",
      "[CV] n_neighbors=1, p=2 ..............................................\n",
      "[CV] ............................... n_neighbors=1, p=2, total=   0.1s\n",
      "[CV] ............................... n_neighbors=1, p=2, total=   0.1s\n",
      "[CV] n_neighbors=1, p=2 ..............................................\n",
      "[CV] n_neighbors=1, p=2 ..............................................\n",
      "[CV] ............................... n_neighbors=1, p=2, total=   0.1s\n",
      "[CV] n_neighbors=1, p=2 ..............................................\n",
      "[CV] ............................... n_neighbors=1, p=2, total=   0.1s\n",
      "[CV] n_neighbors=1, p=4 ..............................................\n",
      "[CV] ............................... n_neighbors=1, p=2, total=   0.1s\n",
      "[CV] n_neighbors=1, p=4 ..............................................\n",
      "[CV] ............................... n_neighbors=1, p=4, total=   1.4s\n",
      "[CV] n_neighbors=1, p=4 ..............................................\n",
      "[CV] ............................... n_neighbors=1, p=4, total=   1.4s\n",
      "[CV] n_neighbors=1, p=4 ..............................................\n",
      "[CV] ............................... n_neighbors=1, p=4, total=   1.6s\n",
      "[CV] n_neighbors=1, p=4 ..............................................\n",
      "[CV] ............................... n_neighbors=1, p=4, total=   1.7s\n",
      "[CV] n_neighbors=2, p=2 ..............................................\n",
      "[CV] ............................... n_neighbors=2, p=2, total=   0.2s\n",
      "[CV] n_neighbors=2, p=2 ..............................................\n",
      "[CV] ............................... n_neighbors=2, p=2, total=   0.1s\n",
      "[CV] n_neighbors=2, p=2 ..............................................\n",
      "[CV] ............................... n_neighbors=1, p=4, total=   1.3s\n",
      "[CV] n_neighbors=2, p=2 ..............................................\n",
      "[CV] ............................... n_neighbors=2, p=2, total=   0.2s\n",
      "[CV] n_neighbors=2, p=2 ..............................................\n",
      "[CV] ............................... n_neighbors=2, p=2, total=   0.2s\n",
      "[CV] n_neighbors=2, p=4 ..............................................\n",
      "[CV] ............................... n_neighbors=2, p=2, total=   0.1s\n",
      "[CV] n_neighbors=2, p=4 ..............................................\n",
      "[CV] ............................... n_neighbors=2, p=4, total=   1.4s\n",
      "[CV] n_neighbors=2, p=4 ..............................................\n",
      "[CV] ............................... n_neighbors=2, p=4, total=   1.4s\n",
      "[CV] n_neighbors=2, p=4 ..............................................\n",
      "[CV] ............................... n_neighbors=2, p=4, total=   1.1s\n",
      "[CV] n_neighbors=2, p=4 ..............................................\n",
      "[CV] ............................... n_neighbors=2, p=4, total=   1.0s\n",
      "[CV] n_neighbors=3, p=2 ..............................................\n",
      "[CV] ............................... n_neighbors=3, p=2, total=   0.1s\n",
      "[CV] n_neighbors=3, p=2 ..............................................\n",
      "[CV] ............................... n_neighbors=3, p=2, total=   0.2s\n",
      "[CV] n_neighbors=3, p=2 ..............................................\n",
      "[CV] ............................... n_neighbors=3, p=2, total=   0.2s\n",
      "[CV] n_neighbors=3, p=2 ..............................................\n",
      "[CV] ............................... n_neighbors=3, p=2, total=   0.1s\n",
      "[CV] n_neighbors=3, p=2 ..............................................\n",
      "[CV] ............................... n_neighbors=3, p=2, total=   0.1s\n",
      "[CV] n_neighbors=3, p=4 ..............................................\n",
      "[CV] ............................... n_neighbors=2, p=4, total=   1.2s\n",
      "[CV] n_neighbors=3, p=4 ..............................................\n",
      "[CV] ............................... n_neighbors=3, p=4, total=   0.7s\n",
      "[CV] n_neighbors=3, p=4 ..............................................\n",
      "[CV] ............................... n_neighbors=3, p=4, total=   1.3s\n",
      "[CV] n_neighbors=3, p=4 ..............................................\n",
      "[CV] ............................... n_neighbors=3, p=4, total=   0.9s\n",
      "[CV] n_neighbors=3, p=4 ..............................................\n",
      "[CV] ............................... n_neighbors=3, p=4, total=   0.7s\n",
      "[CV] n_neighbors=4, p=2 ..............................................\n",
      "[CV] ............................... n_neighbors=4, p=2, total=   0.1s\n",
      "[CV] n_neighbors=4, p=2 ..............................................\n",
      "[CV] ............................... n_neighbors=4, p=2, total=   0.1s\n",
      "[CV] n_neighbors=4, p=2 ..............................................\n",
      "[CV] ............................... n_neighbors=4, p=2, total=   0.1s\n",
      "[CV] n_neighbors=4, p=2 ..............................................\n",
      "[CV] ............................... n_neighbors=4, p=2, total=   0.1s\n",
      "[CV] n_neighbors=4, p=2 ..............................................\n",
      "[CV] ............................... n_neighbors=4, p=2, total=   0.1s\n",
      "[CV] n_neighbors=4, p=4 ..............................................\n",
      "[CV] ............................... n_neighbors=3, p=4, total=   0.7s\n",
      "[CV] n_neighbors=4, p=4 ..............................................\n",
      "[CV] ............................... n_neighbors=4, p=4, total=   1.2s\n",
      "[CV] n_neighbors=4, p=4 ..............................................\n",
      "[CV] ............................... n_neighbors=4, p=4, total=   1.7s\n",
      "[CV] n_neighbors=4, p=4 ..............................................\n"
     ]
    },
    {
     "name": "stderr",
     "output_type": "stream",
     "text": [
      "[Parallel(n_jobs=2)]: Done  37 tasks      | elapsed:   41.2s\n"
     ]
    },
    {
     "name": "stdout",
     "output_type": "stream",
     "text": [
      "[CV] ............................... n_neighbors=4, p=4, total=   1.2s\n",
      "[CV] n_neighbors=4, p=4 ..............................................\n",
      "[CV] ............................... n_neighbors=4, p=4, total=   1.2s\n",
      "[CV] n_neighbors=5, p=2 ..............................................\n",
      "[CV] ............................... n_neighbors=5, p=2, total=   0.1s\n",
      "[CV] n_neighbors=5, p=2 ..............................................\n",
      "[CV] ............................... n_neighbors=5, p=2, total=   0.1s\n",
      "[CV] n_neighbors=5, p=2 ..............................................\n",
      "[CV] ............................... n_neighbors=5, p=2, total=   0.1s\n",
      "[CV] n_neighbors=5, p=2 ..............................................\n",
      "[CV] ............................... n_neighbors=5, p=2, total=   0.1s\n",
      "[CV] n_neighbors=5, p=2 ..............................................\n",
      "[CV] ............................... n_neighbors=5, p=2, total=   0.1s\n",
      "[CV] n_neighbors=5, p=4 ..............................................\n",
      "[CV] ............................... n_neighbors=4, p=4, total=   1.1s\n",
      "[CV] n_neighbors=5, p=4 ..............................................\n",
      "[CV] ............................... n_neighbors=5, p=4, total=   1.2s\n",
      "[CV] n_neighbors=5, p=4 ..............................................\n",
      "[CV] ............................... n_neighbors=5, p=4, total=   0.9s\n",
      "[CV] n_neighbors=5, p=4 ..............................................\n",
      "[CV] ............................... n_neighbors=5, p=4, total=   1.0s\n",
      "[CV] n_neighbors=5, p=4 ..............................................\n",
      "[CV] ............................... n_neighbors=5, p=4, total=   1.6s\n",
      "[CV] n_neighbors=6, p=2 ..............................................\n",
      "[CV] ............................... n_neighbors=6, p=2, total=   0.2s\n",
      "[CV] n_neighbors=6, p=2 ..............................................\n",
      "[CV] ............................... n_neighbors=6, p=2, total=   0.2s\n",
      "[CV] n_neighbors=6, p=2 ..............................................\n",
      "[CV] ............................... n_neighbors=6, p=2, total=   0.1s\n",
      "[CV] n_neighbors=6, p=2 ..............................................\n",
      "[CV] ............................... n_neighbors=6, p=2, total=   0.1s\n",
      "[CV] n_neighbors=6, p=2 ..............................................\n",
      "[CV] ............................... n_neighbors=6, p=2, total=   0.1s\n",
      "[CV] n_neighbors=6, p=4 ..............................................\n",
      "[CV] ............................... n_neighbors=5, p=4, total=   1.2s\n",
      "[CV] n_neighbors=6, p=4 ..............................................\n",
      "[CV] ............................... n_neighbors=6, p=4, total=   2.6s\n",
      "[CV] n_neighbors=6, p=4 ..............................................\n",
      "[CV] ............................... n_neighbors=6, p=4, total=   1.7s\n",
      "[CV] n_neighbors=6, p=4 ..............................................\n",
      "[CV] ............................... n_neighbors=6, p=4, total=   0.8s\n",
      "[CV] n_neighbors=6, p=4 ..............................................\n",
      "[CV] ............................... n_neighbors=6, p=4, total=   0.8s\n",
      "[CV] n_neighbors=7, p=2 ..............................................\n",
      "[CV] ............................... n_neighbors=7, p=2, total=   0.1s\n",
      "[CV] n_neighbors=7, p=2 ..............................................\n",
      "[CV] ............................... n_neighbors=7, p=2, total=   0.1s\n",
      "[CV] n_neighbors=7, p=2 ..............................................\n",
      "[CV] ............................... n_neighbors=7, p=2, total=   0.1s\n",
      "[CV] n_neighbors=7, p=2 ..............................................\n",
      "[CV] ............................... n_neighbors=7, p=2, total=   0.1s\n",
      "[CV] n_neighbors=7, p=2 ..............................................\n",
      "[CV] ............................... n_neighbors=7, p=2, total=   0.1s\n",
      "[CV] n_neighbors=7, p=4 ..............................................\n",
      "[CV] ............................... n_neighbors=6, p=4, total=   0.8s\n",
      "[CV] n_neighbors=7, p=4 ..............................................\n",
      "[CV] ............................... n_neighbors=7, p=4, total=   0.8s\n",
      "[CV] n_neighbors=7, p=4 ..............................................\n",
      "[CV] ............................... n_neighbors=7, p=4, total=   0.8s\n",
      "[CV] n_neighbors=7, p=4 ..............................................\n",
      "[CV] ............................... n_neighbors=7, p=4, total=   0.7s\n",
      "[CV] n_neighbors=7, p=4 ..............................................\n",
      "[CV] ............................... n_neighbors=7, p=4, total=   0.8s\n",
      "[CV] n_neighbors=8, p=2 ..............................................\n",
      "[CV] ............................... n_neighbors=8, p=2, total=   0.1s\n",
      "[CV] n_neighbors=8, p=2 ..............................................\n",
      "[CV] ............................... n_neighbors=8, p=2, total=   0.1s\n",
      "[CV] n_neighbors=8, p=2 ..............................................\n",
      "[CV] ............................... n_neighbors=8, p=2, total=   0.1s\n",
      "[CV] n_neighbors=8, p=2 ..............................................\n",
      "[CV] ............................... n_neighbors=8, p=2, total=   0.1s\n",
      "[CV] n_neighbors=8, p=2 ..............................................\n",
      "[CV] ............................... n_neighbors=8, p=2, total=   0.1s\n",
      "[CV] n_neighbors=8, p=4 ..............................................\n",
      "[CV] ............................... n_neighbors=7, p=4, total=   0.8s\n",
      "[CV] n_neighbors=8, p=4 ..............................................\n",
      "[CV] ............................... n_neighbors=8, p=4, total=   1.0s\n",
      "[CV] n_neighbors=8, p=4 ..............................................\n",
      "[CV] ............................... n_neighbors=8, p=4, total=   1.1s\n",
      "[CV] n_neighbors=8, p=4 ..............................................\n",
      "[CV] ............................... n_neighbors=8, p=4, total=   0.7s\n",
      "[CV] n_neighbors=8, p=4 ..............................................\n",
      "[CV] ............................... n_neighbors=8, p=4, total=   0.7s\n",
      "[CV] n_neighbors=9, p=2 ..............................................\n",
      "[CV] ............................... n_neighbors=9, p=2, total=   0.1s\n",
      "[CV] n_neighbors=9, p=2 ..............................................\n",
      "[CV] ............................... n_neighbors=9, p=2, total=   0.1s\n",
      "[CV] n_neighbors=9, p=2 ..............................................\n",
      "[CV] ............................... n_neighbors=9, p=2, total=   0.1s\n",
      "[CV] n_neighbors=9, p=2 ..............................................\n",
      "[CV] ............................... n_neighbors=9, p=2, total=   0.1s\n",
      "[CV] n_neighbors=9, p=2 ..............................................\n",
      "[CV] ............................... n_neighbors=9, p=2, total=   0.1s\n",
      "[CV] n_neighbors=9, p=4 ..............................................\n",
      "[CV] ............................... n_neighbors=8, p=4, total=   0.9s\n",
      "[CV] n_neighbors=9, p=4 ..............................................\n",
      "[CV] ............................... n_neighbors=9, p=4, total=   0.9s\n",
      "[CV] n_neighbors=9, p=4 ..............................................\n",
      "[CV] ............................... n_neighbors=9, p=4, total=   1.2s\n",
      "[CV] n_neighbors=9, p=4 ..............................................\n",
      "[CV] ............................... n_neighbors=9, p=4, total=   1.2s\n",
      "[CV] n_neighbors=9, p=4 ..............................................\n",
      "[CV] ............................... n_neighbors=9, p=4, total=   0.9s\n",
      "[CV] ............................... n_neighbors=9, p=4, total=   0.8s\n",
      "CPU times: user 580 ms, sys: 163 ms, total: 743 ms\n",
      "Wall time: 1min 58s\n"
     ]
    },
    {
     "name": "stderr",
     "output_type": "stream",
     "text": [
      "[Parallel(n_jobs=2)]: Done  90 out of  90 | elapsed:  2.0min finished\n"
     ]
    },
    {
     "data": {
      "text/plain": [
       "GridSearchCV(cv=StratifiedKFold(n_splits=5, random_state=42, shuffle=True),\n",
       "       error_score='raise',\n",
       "       estimator=KNeighborsClassifier(algorithm='auto', leaf_size=30, metric='minkowski',\n",
       "           metric_params=None, n_jobs=1, n_neighbors=5, p=2,\n",
       "           weights='uniform'),\n",
       "       fit_params=None, iid=True, n_jobs=2,\n",
       "       param_grid={'n_neighbors': array([1, 2, 3, 4, 5, 6, 7, 8, 9]), 'p': [2, 4]},\n",
       "       pre_dispatch='2*n_jobs', refit=True, return_train_score='warn',\n",
       "       scoring=None, verbose=2)"
      ]
     },
     "execution_count": 11,
     "metadata": {},
     "output_type": "execute_result"
    }
   ],
   "source": [
    "params = {\n",
    "    \"n_neighbors\": np.arange(1, 10), \n",
    "    \"p\": [2,4]\n",
    "}\n",
    "\n",
    "search = GridSearchCV(KNeighborsClassifier(), params, n_jobs=2, \n",
    "                      cv=StratifiedKFold(n_splits=5, shuffle=True, random_state=42), verbose=2)\n",
    "%time search.fit(X, y)"
   ]
  },
  {
   "cell_type": "code",
   "execution_count": 12,
   "metadata": {},
   "outputs": [
    {
     "name": "stdout",
     "output_type": "stream",
     "text": [
      "BEST: score=0.989983305509182, params={'n_neighbors': 1, 'p': 4}\n"
     ]
    },
    {
     "data": {
      "image/png": "[encoded data removed]",
      "text/plain": [
       "<matplotlib.figure.Figure at 0x1123c8438>"
      ]
     },
     "metadata": {},
     "output_type": "display_data"
    }
   ],
   "source": [
    "x_ticks = [\"{:02d}_n_neighbors={}, p={}\".format(i, p['n_neighbors'], p['p']) for i,p in enumerate(search.cv_results_['params'])]\n",
    "\n",
    "plt.figure(figsize=(16,8))\n",
    "plt.plot(x_ticks, search.cv_results_['mean_test_score'])\n",
    "_ =plt.xticks(rotation=90)\n",
    "\n",
    "print(\"BEST: score={}, params={}\".format(search.best_score_, search.best_params_))"
   ]
  },
  {
   "cell_type": "code",
   "execution_count": 13,
   "metadata": {},
   "outputs": [
    {
     "name": "stdout",
     "output_type": "stream",
     "text": [
      "             precision    recall  f1-score   support\n",
      "\n",
      "          0       0.99      1.00      1.00       100\n",
      "          1       0.93      1.00      0.96       104\n",
      "          2       0.98      1.00      0.99        96\n",
      "          3       0.96      0.97      0.97       113\n",
      "          4       0.99      0.96      0.98       112\n",
      "          5       0.97      0.98      0.98       118\n",
      "          6       1.00      0.99      1.00       119\n",
      "          7       0.92      1.00      0.96       108\n",
      "          8       0.98      0.92      0.95        98\n",
      "          9       0.99      0.88      0.93       111\n",
      "\n",
      "avg / total       0.97      0.97      0.97      1079\n",
      "\n"
     ]
    },
    {
     "data": {
      "text/plain": [
       "<matplotlib.axes._subplots.AxesSubplot at 0x1128cb3c8>"
      ]
     },
     "execution_count": 13,
     "metadata": {},
     "output_type": "execute_result"
    },
    {
     "data": {
      "image/png": "[encoded data removed]",
      "text/plain": [
       "<matplotlib.figure.Figure at 0x112cf3978>"
      ]
     },
     "metadata": {},
     "output_type": "display_data"
    }
   ],
   "source": [
    "clf = KNeighborsClassifier(n_neighbors=2, p=4)\n",
    "clf.fit(X_train, y_train)\n",
    "y_pred = clf.predict(X_test).astype('int')\n",
    "\n",
    "print(classification_report(y_test, y_pred))\n",
    "\n",
    "plt.figure(figsize=(12,12))\n",
    "sns.heatmap(confusion_matrix(y_test, y_pred), cmap=plt.cm.Blues, square=True, annot=True, fmt='.3g')"
   ]
  },
  {
   "cell_type": "markdown",
   "metadata": {},
   "source": [
    "### Рекомендательная система\n",
    "\n",
    "А эту задачу вы решите дома.\n",
    "\n",
    "![](https://i.imgur.com/hn3xjZl.png)\n",
    "\n",
    "_картинка из курса МФТИ_"
   ]
  },
  {
   "cell_type": "markdown",
   "metadata": {},
   "source": [
    "### Классификация текстов\n",
    "\n",
    "На примере [датасета SMS спама](https://archive.ics.uci.edu/ml/datasets/sms+spam+collection) научим наш классификатор отличать спам от обычного сообщения. Посмотрим как Наивный байесовский метод решает эту задачу и kNN. "
   ]
  },
  {
   "cell_type": "code",
   "execution_count": 14,
   "metadata": {},
   "outputs": [
    {
     "data": {
      "text/html": [
       "<div>\n",
       "<style>\n",
       "    .dataframe thead tr:only-child th {\n",
       "        text-align: right;\n",
       "    }\n",
       "\n",
       "    .dataframe thead th {\n",
       "        text-align: left;\n",
       "    }\n",
       "\n",
       "    .dataframe tbody tr th {\n",
       "        vertical-align: top;\n",
       "    }\n",
       "</style>\n",
       "<table border=\"1\" class=\"dataframe\">\n",
       "  <thead>\n",
       "    <tr style=\"text-align: right;\">\n",
       "      <th></th>\n",
       "      <th>target</th>\n",
       "      <th>text</th>\n",
       "    </tr>\n",
       "  </thead>\n",
       "  <tbody>\n",
       "    <tr>\n",
       "      <th>0</th>\n",
       "      <td>ham</td>\n",
       "      <td>Go until jurong point, crazy.. Available only ...</td>\n",
       "    </tr>\n",
       "    <tr>\n",
       "      <th>1</th>\n",
       "      <td>ham</td>\n",
       "      <td>Ok lar... Joking wif u oni...</td>\n",
       "    </tr>\n",
       "    <tr>\n",
       "      <th>2</th>\n",
       "      <td>spam</td>\n",
       "      <td>Free entry in 2 a wkly comp to win FA Cup fina...</td>\n",
       "    </tr>\n",
       "    <tr>\n",
       "      <th>3</th>\n",
       "      <td>ham</td>\n",
       "      <td>U dun say so early hor... U c already then say...</td>\n",
       "    </tr>\n",
       "    <tr>\n",
       "      <th>4</th>\n",
       "      <td>ham</td>\n",
       "      <td>Nah I don't think he goes to usf, he lives aro...</td>\n",
       "    </tr>\n",
       "  </tbody>\n",
       "</table>\n",
       "</div>"
      ],
      "text/plain": [
       "  target                                               text\n",
       "0    ham  Go until jurong point, crazy.. Available only ...\n",
       "1    ham                      Ok lar... Joking wif u oni...\n",
       "2   spam  Free entry in 2 a wkly comp to win FA Cup fina...\n",
       "3    ham  U dun say so early hor... U c already then say...\n",
       "4    ham  Nah I don't think he goes to usf, he lives aro..."
      ]
     },
     "execution_count": 14,
     "metadata": {},
     "output_type": "execute_result"
    }
   ],
   "source": [
    "data = pd.read_csv('../../data/SMSSpamCollection.tsv.gz', compression='gzip', sep='\\t', header=None, names=['target', 'text'])\n",
    "data.head()"
   ]
  },
  {
   "cell_type": "code",
   "execution_count": 15,
   "metadata": {},
   "outputs": [
    {
     "name": "stdout",
     "output_type": "stream",
     "text": [
      "spam Free entry in 2 a wkly comp to win FA Cup final tkts 21st May 2005. Text FA to 87121 to receive entry question(std txt rate)T&C's apply 08452810075over18's\n",
      "\n",
      "ham I've been searching for the right words to thank you for this breather. I promise i wont take your help for granted and will fulfil my promise. You have been wonderful and a blessing at all times.\n"
     ]
    }
   ],
   "source": [
    "# Посмотрим на типичны представителей датасета\n",
    "print(data['target'][2], data['text'][2])\n",
    "print()\n",
    "print(data['target'][13], data['text'][13])"
   ]
  },
  {
   "cell_type": "code",
   "execution_count": 16,
   "metadata": {},
   "outputs": [
    {
     "data": {
      "text/plain": [
       "<matplotlib.axes._subplots.AxesSubplot at 0x1128d62b0>"
      ]
     },
     "execution_count": 16,
     "metadata": {},
     "output_type": "execute_result"
    },
    {
     "data": {
      "image/png": "[encoded data removed]",
      "text/plain": [
       "<matplotlib.figure.Figure at 0x1123e5518>"
      ]
     },
     "metadata": {},
     "output_type": "display_data"
    }
   ],
   "source": [
    "sns.countplot(data['target'])"
   ]
  },
  {
   "cell_type": "code",
   "execution_count": 17,
   "metadata": {},
   "outputs": [],
   "source": [
    "data['len'] = data['text'].apply(len)"
   ]
  },
  {
   "cell_type": "code",
   "execution_count": 18,
   "metadata": {},
   "outputs": [
    {
     "data": {
      "text/plain": [
       "array([<matplotlib.axes._subplots.AxesSubplot object at 0x10cbe9eb8>,\n",
       "       <matplotlib.axes._subplots.AxesSubplot object at 0x112488908>], dtype=object)"
      ]
     },
     "execution_count": 18,
     "metadata": {},
     "output_type": "execute_result"
    },
    {
     "data": {
      "image/png": "[encoded data removed]",
      "text/plain": [
       "<matplotlib.figure.Figure at 0x1121366a0>"
      ]
     },
     "metadata": {},
     "output_type": "display_data"
    }
   ],
   "source": [
    "data.hist(column='len', by='target', bins=50,figsize=(14,5))"
   ]
  },
  {
   "cell_type": "code",
   "execution_count": 19,
   "metadata": {},
   "outputs": [
    {
     "data": {
      "text/plain": [
       "array([<matplotlib.axes._subplots.AxesSubplot object at 0x112a349b0>,\n",
       "       <matplotlib.axes._subplots.AxesSubplot object at 0x113144198>], dtype=object)"
      ]
     },
     "execution_count": 19,
     "metadata": {},
     "output_type": "execute_result"
    },
    {
     "data": {
      "image/png": "[encoded data removed]",
      "text/plain": [
       "<matplotlib.figure.Figure at 0x112f1b3c8>"
      ]
     },
     "metadata": {},
     "output_type": "display_data"
    }
   ],
   "source": [
    "# какие-то странные длинные смс-ки. Посмотрим на распределение по-другому.\n",
    "data[data['len'] < 280].hist(column='len', by='target', bins=50,figsize=(14,5))"
   ]
  },
  {
   "cell_type": "markdown",
   "metadata": {},
   "source": [
    "### Генерация признаков текста \n",
    "\n",
    "\n",
    "![](https://cs5.pikabu.ru/images/previews_comm/2015-10_5/144549937818821131.jpg)\n",
    "\n",
    "\n",
    "[Sklearn documentation](http://scikit-learn.org/stable/modules/feature_extraction.html#text-feature-extraction)\n",
    "\n",
    "#### Count Vectorizer\n",
    "\n",
    "Можно начать с очень простой идеи. Давайте разобъем данные на слова. Составим словарь всех слов, которые будут встречаться в наших выборках. И отметим, встречается ли это слово в нашем примере. Получается что каждому объекту выборки будет сопоставлен вектор.\n",
    "\n"
   ]
  },
  {
   "cell_type": "code",
   "execution_count": 20,
   "metadata": {},
   "outputs": [],
   "source": [
    "y = data['target']\n",
    "X = data['text']"
   ]
  },
  {
   "cell_type": "code",
   "execution_count": 21,
   "metadata": {},
   "outputs": [],
   "source": [
    "from sklearn.feature_extraction.text import CountVectorizer\n",
    "\n",
    "vectorizer = CountVectorizer(stop_words='english', max_df=0.95, min_df=2)\n",
    "X_vector = vectorizer.fit_transform(X)"
   ]
  },
  {
   "cell_type": "code",
   "execution_count": 22,
   "metadata": {},
   "outputs": [],
   "source": [
    "# vectorizer.get_stop_words()"
   ]
  },
  {
   "cell_type": "code",
   "execution_count": 23,
   "metadata": {},
   "outputs": [
    {
     "name": "stdout",
     "output_type": "stream",
     "text": [
      "3965\n"
     ]
    },
    {
     "data": {
      "text/plain": [
       "(5572, 3965)"
      ]
     },
     "execution_count": 23,
     "metadata": {},
     "output_type": "execute_result"
    }
   ],
   "source": [
    "print(len(vectorizer.vocabulary_))\n",
    "X_vector.shape"
   ]
  },
  {
   "cell_type": "code",
   "execution_count": 24,
   "metadata": {},
   "outputs": [
    {
     "data": {
      "text/plain": [
       "[('zoe', 3964),\n",
       " ('zed', 3963),\n",
       " ('yup', 3962),\n",
       " ('yuo', 3961),\n",
       " ('yunny', 3960),\n",
       " ('yun', 3959),\n",
       " ('yummy', 3958),\n",
       " ('yrs', 3957),\n",
       " ('yr', 3956),\n",
       " ('youre', 3955),\n",
       " ('yor', 3954),\n",
       " ('yogasana', 3953),\n",
       " ('yoga', 3952),\n",
       " ('yo', 3951),\n",
       " ('ym', 3950),\n",
       " ('yijue', 3949),\n",
       " ('yetunde', 3948),\n",
       " ('yesterday', 3947),\n",
       " ('yest', 3946),\n",
       " ('yes', 3945),\n",
       " ('yer', 3944),\n",
       " ('yep', 3943),\n",
       " ('yellow', 3942),\n",
       " ('yelling', 3941),\n",
       " ('yeh', 3940),\n",
       " ('years', 3939),\n",
       " ('year', 3938),\n",
       " ('yeah', 3937),\n",
       " ('yck', 3936),\n",
       " ('yay', 3935),\n",
       " ('yarasu', 3934),\n",
       " ('yar', 3933),\n",
       " ('yan', 3932),\n",
       " ('yahoo', 3931),\n",
       " ('ya', 3930),\n",
       " ('xy', 3929),\n",
       " ('xxxxx', 3928),\n",
       " ('xxxx', 3927),\n",
       " ('xxx', 3926),\n",
       " ('xx', 3925),\n",
       " ('xuhui', 3924),\n",
       " ('xmas', 3923),\n",
       " ('xin', 3922),\n",
       " ('xchat', 3921),\n",
       " ('xavier', 3920),\n",
       " ('xam', 3919),\n",
       " ('x49', 3918),\n",
       " ('wylie', 3917),\n",
       " ('www', 3916),\n",
       " ('wun', 3915)]"
      ]
     },
     "execution_count": 24,
     "metadata": {},
     "output_type": "execute_result"
    }
   ],
   "source": [
    "sorted(vectorizer.vocabulary_.items(), key=lambda x: x[1], reverse=True)[:50]"
   ]
  },
  {
   "cell_type": "code",
   "execution_count": 25,
   "metadata": {},
   "outputs": [
    {
     "name": "stdout",
     "output_type": "stream",
     "text": [
      "CPU times: user 36.5 ms, sys: 694 µs, total: 37.2 ms\n",
      "Wall time: 37.6 ms\n"
     ]
    },
    {
     "data": {
      "text/plain": [
       "0.77153736509167592"
      ]
     },
     "execution_count": 25,
     "metadata": {},
     "output_type": "execute_result"
    }
   ],
   "source": [
    "from sklearn.dummy import DummyClassifier\n",
    "\n",
    "dm = DummyClassifier()\n",
    "%time cross_val_score(dm, X_vector, y, cv=3).mean()"
   ]
  },
  {
   "cell_type": "code",
   "execution_count": 26,
   "metadata": {},
   "outputs": [
    {
     "name": "stdout",
     "output_type": "stream",
     "text": [
      "CPU times: user 878 ms, sys: 1e+03 ms, total: 1.88 s\n",
      "Wall time: 2.55 s\n"
     ]
    },
    {
     "data": {
      "text/plain": [
       "0.86593681835756031"
      ]
     },
     "execution_count": 26,
     "metadata": {},
     "output_type": "execute_result"
    }
   ],
   "source": [
    "%time cross_val_score(KNeighborsClassifier(n_neighbors=42, n_jobs=4), X_vector, y, cv=3).mean()"
   ]
  },
  {
   "cell_type": "code",
   "execution_count": null,
   "metadata": {},
   "outputs": [],
   "source": []
  },
  {
   "cell_type": "markdown",
   "metadata": {},
   "source": [
    "А что скажет Байес?\n",
    "\n",
    "![](https://i.pinimg.com/736x/22/7e/52/227e52ea4622a62344f1bc0a31111f43--bayes-theorem-game-theory.jpg)\n",
    "\n",
    "$\\LARGE P(A|B) = \\frac{P(AB)}{P(B)} =  \\frac{P(B \\mid A)\\, P(A)}{P(B)}$"
   ]
  },
  {
   "cell_type": "code",
   "execution_count": 27,
   "metadata": {},
   "outputs": [],
   "source": [
    "from sklearn.naive_bayes import MultinomialNB"
   ]
  },
  {
   "cell_type": "code",
   "execution_count": 28,
   "metadata": {},
   "outputs": [
    {
     "name": "stdout",
     "output_type": "stream",
     "text": [
      "CPU times: user 78.7 ms, sys: 3.93 ms, total: 82.7 ms\n",
      "Wall time: 84.7 ms\n"
     ]
    },
    {
     "data": {
      "text/plain": [
       "0.9824122845915696"
      ]
     },
     "execution_count": 28,
     "metadata": {},
     "output_type": "execute_result"
    }
   ],
   "source": [
    "%time cross_val_score(MultinomialNB(alpha=1), X_vector, y, cv=3).mean()"
   ]
  },
  {
   "cell_type": "code",
   "execution_count": 29,
   "metadata": {},
   "outputs": [],
   "source": [
    "X_train, X_test, y_train, y_test = train_test_split(X_vector, y, random_state=42, test_size=0.5)"
   ]
  },
  {
   "cell_type": "code",
   "execution_count": 30,
   "metadata": {},
   "outputs": [
    {
     "name": "stdout",
     "output_type": "stream",
     "text": [
      "             precision    recall  f1-score   support\n",
      "\n",
      "        ham       0.94      1.00      0.97      2416\n",
      "       spam       1.00      0.61      0.76       370\n",
      "\n",
      "avg / total       0.95      0.95      0.94      2786\n",
      "\n",
      "[[2416    0]\n",
      " [ 143  227]]\n"
     ]
    }
   ],
   "source": [
    "clf = KNeighborsClassifier(n_neighbors=1)\n",
    "clf.fit(X_train, y_train)\n",
    "\n",
    "y_pred = clf.predict(X_test)\n",
    "print(classification_report(y_test, y_pred))\n",
    "\n",
    "print(confusion_matrix(y_test, y_pred))"
   ]
  },
  {
   "cell_type": "code",
   "execution_count": 31,
   "metadata": {},
   "outputs": [
    {
     "name": "stdout",
     "output_type": "stream",
     "text": [
      "             precision    recall  f1-score   support\n",
      "\n",
      "        ham       0.99      1.00      0.99      2416\n",
      "       spam       0.98      0.92      0.95       370\n",
      "\n",
      "avg / total       0.99      0.99      0.99      2786\n",
      "\n",
      "[[2408    8]\n",
      " [  30  340]]\n"
     ]
    }
   ],
   "source": [
    "clf = MultinomialNB(alpha=4)\n",
    "clf.fit(X_train, y_train)\n",
    "\n",
    "y_pred = clf.predict(X_test)\n",
    "print(classification_report(y_test, y_pred))\n",
    "\n",
    "print(confusion_matrix(y_test, y_pred))"
   ]
  },
  {
   "cell_type": "markdown",
   "metadata": {},
   "source": [
    "### Классификация текстов\n",
    "\n",
    "http://scikit-learn.org/stable/datasets/twenty_newsgroups.html"
   ]
  },
  {
   "cell_type": "code",
   "execution_count": 32,
   "metadata": {
    "scrolled": true
   },
   "outputs": [
    {
     "data": {
      "text/plain": [
       "['alt.atheism',\n",
       " 'comp.graphics',\n",
       " 'comp.os.ms-windows.misc',\n",
       " 'comp.sys.ibm.pc.hardware',\n",
       " 'comp.sys.mac.hardware',\n",
       " 'comp.windows.x',\n",
       " 'misc.forsale',\n",
       " 'rec.autos',\n",
       " 'rec.motorcycles',\n",
       " 'rec.sport.baseball',\n",
       " 'rec.sport.hockey',\n",
       " 'sci.crypt',\n",
       " 'sci.electronics',\n",
       " 'sci.med',\n",
       " 'sci.space',\n",
       " 'soc.religion.christian',\n",
       " 'talk.politics.guns',\n",
       " 'talk.politics.mideast',\n",
       " 'talk.politics.misc',\n",
       " 'talk.religion.misc']"
      ]
     },
     "execution_count": 32,
     "metadata": {},
     "output_type": "execute_result"
    }
   ],
   "source": [
    "from sklearn.datasets import fetch_20newsgroups\n",
    "newsgroups_train = fetch_20newsgroups(subset='train')\n",
    "newsgroups_train.target_names"
   ]
  }
 ],
 "metadata": {
  "kernelspec": {
   "display_name": "Python 3",
   "language": "python",
   "name": "python3"
  },
  "language_info": {
   "codemirror_mode": {
    "name": "ipython",
    "version": 3
   },
   "file_extension": ".py",
   "mimetype": "text/x-python",
   "name": "python",
   "nbconvert_exporter": "python",
   "pygments_lexer": "ipython3",
   "version": "3.6.3"
  }
 },
 "nbformat": 4,
 "nbformat_minor": 2
}
